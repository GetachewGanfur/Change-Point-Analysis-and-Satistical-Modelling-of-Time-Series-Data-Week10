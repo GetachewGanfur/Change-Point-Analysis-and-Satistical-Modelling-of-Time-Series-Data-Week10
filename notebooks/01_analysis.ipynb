{
 "cells": [
  {
   "cell_type": "markdown",
   "id": "766cd949",
   "metadata": {},
   "source": [
    "##### Complete Brent Oil Price Change Point Analysis"
   ]
  },
  {
   "cell_type": "code",
   "execution_count": null,
   "id": "653907bc",
   "metadata": {},
   "outputs": [],
   "source": [
    "import sys\n",
    "import os\n",
    "sys.path.append('../src')\n",
    "\n",
    "import pandas as pd\n",
    "import numpy as np\n",
    "import matplotlib.pyplot as plt\n",
    "import seaborn as sns\n",
    "import warnings\n",
    "warnings.filterwarnings('ignore')\n",
    "\n",
    "from comprehensive_analysis import ComprehensiveAnalysis\n",
    "\n",
    "plt.style.use('seaborn-v0_8')\n",
    "%matplotlib inline"
   ]
  },
  {
   "cell_type": "markdown",
   "id": "8d01e7ee",
   "metadata": {},
   "source": [
    "##### Run Complete Analysis Workflow"
   ]
  },
  {
   "cell_type": "code",
   "execution_count": null,
   "id": "16af682e",
   "metadata": {},
   "outputs": [],
   "source": [
    "# Initialize the comprehensive analysis\n",
    "analyzer = ComprehensiveAnalysis('../data/BrentOilPrices.csv')\n",
    "\n",
    "print(\"🛢️  BRENT OIL PRICE CHANGE POINT ANALYSIS\")\n",
    "print(\"=\" * 50)\n",
    "\n",
    "# Run the complete analysis workflow\n",
    "results = analyzer.run_full_analysis(\n",
    "    series_type='log_returns',  # Analyze log returns for better stationarity\n",
    "    n_samples=1500  # Reduced for faster execution\n",
    ")"
   ]
  },
  {
   "cell_type": "markdown",
   "id": "1f6ad30d",
   "metadata": {},
   "source": [
    "##### Analysis Results Summary"
   ]
  },
  {
   "cell_type": "code",
   "execution_count": null,
   "id": "c9a62428",
   "metadata": {},
   "outputs": [],
   "source": [
    "# Display key results\n",
    "print(\"\\n✅ Analysis completed successfully!\")\n",
    "print(\"\\nKey Results:\")\n",
    "print(f\"- Change point detected at index: {results['change_point_summary']['mode_tau']}\")\n",
    "\n",
    "if 'mode_date' in results['change_point_summary']:\n",
    "    print(f\"- Change point date: {results['change_point_summary']['mode_date']}\")\n",
    "\n",
    "if results['impact_analysis']:\n",
    "    print(f\"- Impact magnitude: {abs(results['impact_analysis']['relative_change']):.2f}%\")\n",
    "\n",
    "if results['nearby_events'] is not None and len(results['nearby_events']) > 0:\n",
    "    closest_event = results['nearby_events'].iloc[0]\n",
    "    print(f\"- Associated event: {closest_event['event']}\")"
   ]
  },
  {
   "cell_type": "code",
   "execution_count": null,
   "id": "34bafeb0",
   "metadata": {},
   "outputs": [],
   "source": [
    "# 1. Imports and Setup\n",
    "import sys\n",
    "sys.path.append('../src')\n",
    "\n",
    "from data_loader import DataLoader\n",
    "from event_manager import EventManager\n",
    "from eda import EDA\n",
    "from time_series_analysis import TimeSeriesAnalyzer\n",
    "from change_point_model import ChangePointModel\n",
    "from results_interpreter import ResultsInterpreter"
   ]
  },
  {
   "cell_type": "code",
   "execution_count": null,
   "id": "e01534e8",
   "metadata": {},
   "outputs": [],
   "source": [
    "# 2. Load Data\n",
    "price_data_path = '../data/BrentOilPrices.csv'   # Update with your actual path\n",
    "event_data_path = '../data/BrentOilPrices.csv'         # Update with your actual path\n",
    "\n",
    "data_loader = DataLoader(price_data_path)\n",
    "df = data_loader.load_data()\n",
    "\n",
    "event_manager = EventManager(event_data_path)\n",
    "events = event_manager.load_events()"
   ]
  },
  {
   "cell_type": "code",
   "execution_count": null,
   "id": "1f481355",
   "metadata": {},
   "outputs": [],
   "source": []
  }
 ],
 "metadata": {
  "kernelspec": {
   "display_name": ".venv",
   "language": "python",
   "name": "python3"
  },
  "language_info": {
   "codemirror_mode": {
    "name": "ipython",
    "version": 3
   },
   "file_extension": ".py",
   "mimetype": "text/x-python",
   "name": "python",
   "nbconvert_exporter": "python",
   "pygments_lexer": "ipython3",
   "version": "3.12.7"
  }
 },
 "nbformat": 4,
 "nbformat_minor": 5
}
