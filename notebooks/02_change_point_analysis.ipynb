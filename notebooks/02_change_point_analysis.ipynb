# Data preprocessing for change point analysis
def prepare_data_for_modeling(df):
    """
    Prepare data for change point analysis:
    1. Calculate log returns for stationarity
    2. Handle missing values
    3. Create time index
    """
    # Create a copy
    data = df.copy()
    
    # Calculate log returns (better for modeling volatility changes)
    data['Log_Price'] = np.log(data['Price'])
    data['Log_Returns'] = data['Log_Price'].diff()
    
    # Drop first row (NaN from diff)
    data = data.dropna()
    
    # Create time index (days since start)
    data['Time_Index'] = range(len(data))
    
    print(f"Prepared data shape: {data.shape}")
    print(f"Log returns summary:")
    print(data['Log_Returns'].describe())
    
    return data

# Prepare the data
data = prepare_data_for_modeling(df)

# Test for stationarity
def test_stationarity(series, title):
    """Perform Augmented Dickey-Fuller test for stationarity"""
    result = adfuller(series.dropna())
    print(f'\\n{title}:')
    print(f'ADF Statistic: {result[0]:.6f}')
    print(f'p-value: {result[1]:.6f}')
    print(f'Critical Values:')
    for key, value in result[4].items():
        print(f'\\t{key}: {value:.3f}')
    
    if result[1] <= 0.05:
        print("Series is stationary (reject null hypothesis)")
    else:
        print("Series is non-stationary (fail to reject null hypothesis)")

# Test stationarity of price levels and returns
test_stationarity(data['Log_Price'], 'Log Prices Stationarity Test')
test_stationarity(data['Log_Returns'], 'Log Returns Stationarity Test')# Load preprocessed data and events
def load_data():
    """Load oil price data and events dataset"""
    try:
        # Load oil price data (from previous notebook or data file)
        df = pd.read_csv('../data/processed/brent_prices_processed.csv')
        df['Date'] = pd.to_datetime(df['Date'])
    except:
        # Fallback: create sample data
        print("Creating sample data for demonstration...")
        dates = pd.date_range(start='1987-05-20', end='2022-09-30', freq='D')
        np.random.seed(42)
        n = len(dates)
        
        # Generate realistic price series with change points
        prices = []
        current_price = 50
        
        for i in range(n):
            # Add some major change points at specific dates
            if i == int(n * 0.3):  # Around 1998 (Asian Crisis)
                current_price *= 0.7
            elif i == int(n * 0.6):  # Around 2008 (Financial Crisis)  
                current_price *= 0.4
            elif i == int(n * 0.8):  # Around 2014 (Oil Glut)
                current_price *= 0.5
            elif i == int(n * 0.95):  # Around 2020 (COVID)
                current_price *= 0.3
                
            # Daily price movement
            daily_change = np.random.normal(0, 0.02)
            current_price *= (1 + daily_change)
            current_price = max(current_price, 10)  # Floor at $10
            prices.append(current_price)
        
        df = pd.DataFrame({
            'Date': dates,
            'Price': prices
        })
    
    # Load events data
    events_df = pd.read_csv('../data/events/major_events.csv')
    events_df['Date'] = pd.to_datetime(events_df['Date'])
    
    return df, events_df

# Load data
df, events_df = load_data()

print(f"Loaded price data: {len(df)} observations from {df['Date'].min()} to {df['Date'].max()}")
print(f"Loaded events data: {len(events_df)} major events")# Import necessary libraries
import pandas as pd
import numpy as np
import matplotlib.pyplot as plt
import seaborn as sns
import plotly.graph_objects as go
import plotly.express as px

# Bayesian modeling libraries
import pymc3 as pm
import arviz as az
import theano.tensor as tt

# Statistical libraries
from scipy import stats
from statsmodels.tsa.stattools import adfuller
from statsmodels.graphics.tsaplots import plot_acf, plot_pacf

import warnings
warnings.filterwarnings('ignore')

# Set random seed for reproducibility
np.random.seed(42)

print("Libraries imported successfully!")# Bayesian Change Point Analysis for Brent Oil Prices

## Task 2: Change Point Modeling and Insight Generation

This notebook implements:
1. Bayesian Change Point detection using PyMC3
2. Statistical modeling of structural breaks
3. Model validation and convergence analysis
4. Quantitative impact assessment

### Methodology Overview
We'll use Bayesian Change Point Analysis to detect statistically significant structural breaks in Brent oil price time series and associate these breaks with major geopolitical events.