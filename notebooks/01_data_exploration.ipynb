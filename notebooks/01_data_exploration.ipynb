# Create comprehensive events dataset
major_events = [
    {'Date': '1990-08-02', 'Event': 'Iraq invades Kuwait', 'Category': 'Geopolitical Conflict', 'Expected_Impact': 'Price Increase'},
    {'Date': '1991-01-17', 'Event': 'Gulf War begins', 'Category': 'Geopolitical Conflict', 'Expected_Impact': 'Price Increase'},
    {'Date': '1997-07-02', 'Event': 'Asian Financial Crisis begins', 'Category': 'Economic Crisis', 'Expected_Impact': 'Price Decrease'},
    {'Date': '1998-12-28', 'Event': 'OPEC production cuts', 'Category': 'OPEC Decision', 'Expected_Impact': 'Price Increase'},
    {'Date': '2001-09-11', 'Event': '9/11 terrorist attacks', 'Category': 'Geopolitical Shock', 'Expected_Impact': 'Price Increase'},
    {'Date': '2003-03-20', 'Event': 'Iraq War begins', 'Category': 'Geopolitical Conflict', 'Expected_Impact': 'Price Increase'},
    {'Date': '2008-09-15', 'Event': 'Lehman Brothers collapse', 'Category': 'Economic Crisis', 'Expected_Impact': 'Price Decrease'},
    {'Date': '2010-12-17', 'Event': 'Arab Spring begins (Tunisia)', 'Category': 'Geopolitical Unrest', 'Expected_Impact': 'Price Increase'},
    {'Date': '2011-03-11', 'Event': 'Fukushima nuclear disaster', 'Category': 'Energy Crisis', 'Expected_Impact': 'Price Increase'},
    {'Date': '2014-11-27', 'Event': 'OPEC decides not to cut production', 'Category': 'OPEC Decision', 'Expected_Impact': 'Price Decrease'},
    {'Date': '2016-02-16', 'Event': 'Oil production freeze agreement', 'Category': 'OPEC Decision', 'Expected_Impact': 'Price Increase'},
    {'Date': '2018-05-08', 'Event': 'US withdraws from Iran nuclear deal', 'Category': 'Economic Sanctions', 'Expected_Impact': 'Price Increase'},
    {'Date': '2020-03-06', 'Event': 'OPEC+ agreement collapses', 'Category': 'OPEC Decision', 'Expected_Impact': 'Price Decrease'},
    {'Date': '2020-03-11', 'Event': 'WHO declares COVID-19 pandemic', 'Category': 'Global Health Crisis', 'Expected_Impact': 'Price Decrease'},
    {'Date': '2022-02-24', 'Event': 'Russia invades Ukraine', 'Category': 'Geopolitical Conflict', 'Expected_Impact': 'Price Increase'},
]

# Convert to DataFrame
events_df = pd.DataFrame(major_events)
events_df['Date'] = pd.to_datetime(events_df['Date'])

# Save events data
events_df.to_csv('../data/events/major_events.csv', index=False)

print(f"Created events dataset with {len(events_df)} major events")
print(f"Event categories: {events_df['Category'].unique()}")
print(f"Date range: {events_df['Date'].min()} to {events_df['Date'].max()}")

# Display the events
events_df## 2. Major Geopolitical Events Dataset

Below is a compilation of major events that potentially impacted oil markets between 1987-2022:# Data loading function (placeholder - update path when data is available)
def load_brent_data(file_path='../data/raw/brent_oil_prices.csv'):
    """
    Load and initial processing of Brent oil price data
    
    Expected format:
    - Date: day-month-year format (e.g., 20-May-87)
    - Price: USD per barrel
    """
    try:
        # Load the data
        df = pd.read_csv(file_path)
        
        # Convert date column
        df['Date'] = pd.to_datetime(df['Date'], format='%d-%b-%y')
        
        # Sort by date
        df = df.sort_values('Date').reset_index(drop=True)
        
        # Basic data info
        print(f"Data loaded successfully!")
        print(f"Date range: {df['Date'].min()} to {df['Date'].max()}")
        print(f"Number of observations: {len(df)}")
        print(f"Missing values: {df.isnull().sum().sum()}")
        
        return df
    
    except FileNotFoundError:
        print("Data file not found. Please ensure the Brent oil price data is in ../data/raw/")
        # Create sample data for demonstration
        return create_sample_data()

def create_sample_data():
    """Create sample data for demonstration purposes"""
    print("Creating sample data for demonstration...")
    
    # Create date range
    dates = pd.date_range(start='1987-05-20', end='2022-09-30', freq='D')
    
    # Generate realistic oil price data with trend and volatility
    np.random.seed(42)
    n = len(dates)
    
    # Base trend
    trend = 30 + 20 * np.sin(np.linspace(0, 4*np.pi, n)) + 0.02 * np.arange(n)
    
    # Add volatility clusters and shocks
    volatility = 0.02 + 0.01 * np.sin(np.linspace(0, 20*np.pi, n))**2
    shocks = np.random.normal(0, volatility, n)
    
    # Add some major price shocks at specific points
    shock_points = [int(n*0.25), int(n*0.5), int(n*0.75), int(n*0.9)]
    for point in shock_points:
        shocks[point:point+30] += np.random.choice([-1, 1]) * np.random.uniform(0.1, 0.3)
    
    prices = trend + np.cumsum(shocks)
    prices = np.maximum(prices, 10)  # Ensure prices don't go below $10
    
    df = pd.DataFrame({
        'Date': dates,
        'Price': prices
    })
    
    return df

# Load the data
df = load_brent_data()## 1. Data Analysis Workflow Definition

### Workflow Steps:

1. **Data Collection and Preparation**
   - Load and clean Brent oil price data
   - Convert date formats and handle missing values
   - Create time series features

2. **Exploratory Data Analysis**
   - Visualize price trends over time
   - Analyze statistical properties (stationarity, seasonality)
   - Identify periods of high volatility

3. **Event Data Compilation**
   - Research major geopolitical events (1987-2022)
   - Create structured event dataset with dates and descriptions
   - Categorize events by type (political, economic, conflicts, OPEC decisions)

4. **Change Point Analysis Preparation**
   - Transform data for modeling (log returns)
   - Test for stationarity
   - Define model assumptions

5. **Bayesian Change Point Modeling**
   - Implement PyMC3 models
   - Detect structural breaks
   - Validate model convergence

6. **Event Correlation Analysis**
   - Match change points with events
   - Quantify impact magnitude
   - Statistical significance testing

7. **Results Communication**
   - Interactive dashboard development
   - Report generation
   - Stakeholder presentations# Import necessary libraries
import pandas as pd
import numpy as np
import matplotlib.pyplot as plt
import seaborn as sns
import plotly.graph_objects as go
import plotly.express as px
from plotly.subplots import make_subplots
import warnings
warnings.filterwarnings('ignore')

# Set plotting style
plt.style.use('seaborn-v0_8')
sns.set_palette("husl")

# Configure pandas display options
pd.set_option('display.max_columns', None)
pd.set_option('display.width', 1000)

print("Libraries imported successfully!")# Brent Oil Price Data Exploration and Analysis

## Task 1: Laying the Foundation for Analysis

This notebook focuses on:
1. Defining the data analysis workflow
2. Understanding the model and data
3. Research and compile major geopolitical events
4. Analyze time series properties
5. Explore assumptions and limitations

### Business Context
We are analyzing Brent oil prices to understand how major geopolitical events affect market behavior. This analysis will help investors, policymakers, and energy companies make informed decisions.